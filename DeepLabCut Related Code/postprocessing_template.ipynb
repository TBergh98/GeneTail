{
 "cells": [
  {
   "cell_type": "markdown",
   "metadata": {},
   "source": [
    "# Animal Assembly and Tracking Across Frames\n",
    "Editare il file `inference_cfg.yaml`, se necessario, per modificare le metriche di interesse."
   ]
  },
  {
   "cell_type": "code",
   "execution_count": null,
   "metadata": {},
   "outputs": [],
   "source": [
    "import deeplabcut\n",
    "import os"
   ]
  },
  {
   "cell_type": "code",
   "execution_count": null,
   "metadata": {},
   "outputs": [],
   "source": [
    "config_path = os.path.join('..', 'config.yaml') # '..' indica la parent directory"
   ]
  },
  {
   "cell_type": "code",
   "execution_count": null,
   "metadata": {},
   "outputs": [],
   "source": [
    "video_path = '/path/to/analyzed/video.mp4'\n",
    "deeplabcut.convert_detections2tracklets(config_path, video_path)\n",
    "deeplabcut.refine_tracklets()"
   ]
  },
  {
   "cell_type": "code",
   "execution_count": null,
   "metadata": {},
   "outputs": [],
   "source": [
    "# Optional tool for Animal assembly and tracking quality assessment\n",
    "deeplabcut.utils.make_labeled_video.create_video_from_pickled_tracks(config_path, video_path, filtered=True, minimum_valid_skeleton=0.8, pbar=True)"
   ]
  },
  {
   "cell_type": "code",
   "execution_count": null,
   "metadata": {},
   "outputs": [],
   "source": [
    "deeplabcut.stitch_tracklets(config_path, video_path, videotype='mp4', shuffle=1, trainingsetindex=0)"
   ]
  },
  {
   "cell_type": "code",
   "execution_count": null,
   "metadata": {},
   "outputs": [],
   "source": [
    "# Opzionale: estrarre altri frame dal video e creare le lables per altri frame\n",
    "video_file = '/fullpath/project/videos/testVideo.mp4'\n",
    "deeplabcut.find_outliers_in_raw_data(config_path, eval_pickles, video_file)"
   ]
  },
  {
   "cell_type": "code",
   "execution_count": null,
   "metadata": {},
   "outputs": [],
   "source": [
    "deeplabcut.plot_trajectories(config_path,[video_file],filtered = True)\n",
    "deeplabcut.create_labeled_video(config_path, [video_file], videotype='avi', shuffle=1, trainingsetindex=0, filtered=False, fastmode=True, save_frames=False, keypoints_only=False, Frames2plot=None, displayedbodyparts='all', displayedindividuals='all', codec='mp4v', outputframerate=None, destfolder=None, draw_skeleton=False, trailpoints=0, displaycropped=False, color_by='bodypart', track_method='')"
   ]
  }
 ],
 "metadata": {
  "language_info": {
   "name": "python"
  }
 },
 "nbformat": 4,
 "nbformat_minor": 2
}
